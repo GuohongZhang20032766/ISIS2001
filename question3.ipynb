{
  "cells": [
    {
      "cell_type": "markdown",
      "metadata": {
        "id": "view-in-github",
        "colab_type": "text"
      },
      "source": [
        "<a href=\"https://colab.research.google.com/github/GuohongZhang20032766/ISIS2001/blob/main/question3.ipynb\" target=\"_parent\"><img src=\"https://colab.research.google.com/assets/colab-badge.svg\" alt=\"Open In Colab\"/></a>"
      ]
    },
    {
      "cell_type": "code",
      "execution_count": null,
      "metadata": {
        "id": "MV3cT13afe81",
        "outputId": "8a4eac07-576b-4a43-e5a3-1e409ce6aa88"
      },
      "outputs": [
        {
          "name": "stdout",
          "output_type": "stream",
          "text": [
            "I am thinking of a number between 1 and 100.\n",
            "You have 10 guesses left. Take a guess.\n",
            "> 43\n",
            "Your guess is too low.\n",
            "You have 9 guesses left. Take a guess.\n",
            "> 79\n",
            "Your guess is too high.\n",
            "You have 8 guesses left. Take a guess.\n",
            "> 58\n",
            "Your guess is too low.\n",
            "You have 7 guesses left. Take a guess.\n",
            "> 66\n",
            "You guessed my number!\n"
          ]
        }
      ],
      "source": [
        "import random\n",
        "# guess = 0\n",
        "def askForGuess():\n",
        "  while True:\n",
        "    guess = input('> ') \n",
        "\n",
        "    if guess.isdecimal():\n",
        "      return int(guess)\n",
        "    print('Please enter a number between 1 and 100.')\n",
        "\n",
        "print('I am thinking of a number between 1 and 100.')\n",
        "guess = askForGuess()\n",
        "# askForGuess()\n",
        "min = 1\n",
        "max  =100\n",
        "for i in range(0,10,1):\n",
        "    print('You have '+ str(10 - i)+' guesses left. Take a guess.')\n",
        "\n",
        "    secretNumber = random.randint(min+1, max-1)\n",
        "    print('>',secretNumber)\n",
        "    if guess == secretNumber:\n",
        "        break\n",
        "\n",
        "    elif guess < secretNumber:\n",
        "       \n",
        "        max = secretNumber\n",
        "        print('Your guess is too high.')\n",
        "    elif guess > secretNumber:\n",
        "        min = secretNumber\n",
        "       \n",
        "        print('Your guess is too low.')\n",
        "\n",
        "if guess == secretNumber:\n",
        "    print('You guessed my number!')\n",
        "else:\n",
        "    print('No more guesses. The number I was thinking of was', secretNumber)\n"
      ]
    }
  ],
  "metadata": {
    "interpreter": {
      "hash": "916dbcbb3f70747c44a77c7bcd40155683ae19c65e1c03b4aa3499c5328201f1"
    },
    "kernelspec": {
      "display_name": "Python 3.8.10 64-bit",
      "language": "python",
      "name": "python3"
    },
    "language_info": {
      "codemirror_mode": {
        "name": "ipython",
        "version": 3
      },
      "file_extension": ".py",
      "mimetype": "text/x-python",
      "name": "python",
      "nbconvert_exporter": "python",
      "pygments_lexer": "ipython3",
      "version": "3.8.10"
    },
    "orig_nbformat": 4,
    "colab": {
      "name": "question3.ipynb",
      "provenance": [],
      "include_colab_link": true
    }
  },
  "nbformat": 4,
  "nbformat_minor": 0
}