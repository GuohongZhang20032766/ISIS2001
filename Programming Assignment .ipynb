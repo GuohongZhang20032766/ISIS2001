{
  "cells": [
    {
      "cell_type": "markdown",
      "metadata": {
        "id": "view-in-github",
        "colab_type": "text"
      },
      "source": [
        "<a href=\"https://colab.research.google.com/github/GuohongZhang20032766/ISIS2001/blob/main/Programming%20Assignment%20.ipynb\" target=\"_parent\"><img src=\"https://colab.research.google.com/assets/colab-badge.svg\" alt=\"Open In Colab\"/></a>"
      ]
    },
    {
      "cell_type": "markdown",
      "metadata": {
        "id": "syotsV8uaEbD"
      },
      "source": [
        " # Write a report to uncover trends and patterns in email usage within Enron。\n",
        "   * Your account will be delivered as a Python notebook\n",
        "   * This includes comments, data graphs, and code\n",
        "\n",
        "    This format will allow readers if they choose to verify your findings.\n",
        "     The task was to identify the busiest email hours and top ten email senders in the organization and visualize these findings.\n",
        "     You will need to include the following graphs: Number of messages per day by date.\n",
        "     Who are the organization's top ten email senders.\n",
        "     Notebooks as business reports Many companies use reports to reflect past data, prepare for the future, gain insight, or provide answers to questions.\n",
        "     Business reports use data and shed light on potentially challenging ideas or issues.\n",
        "     Business reports have a clearly defined structure with clearly marked sections and headings"
      ]
    },
    {
      "cell_type": "code",
      "execution_count": null,
      "metadata": {
        "id": "WEaC8GvaaEbG"
      },
      "outputs": [],
      "source": [
        "# import pandas\n",
        "import pandas as pd"
      ]
    },
    {
      "cell_type": "code",
      "execution_count": null,
      "metadata": {
        "id": "t5x95o8QaEbG"
      },
      "outputs": [],
      "source": [
        "# import database plugin\n",
        "import sqlite3"
      ]
    },
    {
      "cell_type": "code",
      "execution_count": null,
      "metadata": {
        "id": "nlwrzOxUaEbH"
      },
      "outputs": [],
      "source": [
        "conn  = sqlite3.connect('extract.db')"
      ]
    },
    {
      "cell_type": "markdown",
      "metadata": {
        "id": "B1hNh4ZoaEbH"
      },
      "source": [
        "# referenceinfo\n",
        "    rfid: reference information ID\n",
        "     mid: message ID\n",
        "     reference: Contains the entire email with shortened headers."
      ]
    },
    {
      "cell_type": "code",
      "execution_count": null,
      "metadata": {
        "id": "7Q0PfbedaEbH",
        "outputId": "ba3f73d8-1dbd-4e71-c12d-9f4a9ef1e9b6"
      },
      "outputs": [
        {
          "data": {
            "text/html": [
              "<div>\n",
              "<style scoped>\n",
              "    .dataframe tbody tr th:only-of-type {\n",
              "        vertical-align: middle;\n",
              "    }\n",
              "\n",
              "    .dataframe tbody tr th {\n",
              "        vertical-align: top;\n",
              "    }\n",
              "\n",
              "    .dataframe thead th {\n",
              "        text-align: right;\n",
              "    }\n",
              "</style>\n",
              "<table border=\"1\" class=\"dataframe\">\n",
              "  <thead>\n",
              "    <tr style=\"text-align: right;\">\n",
              "      <th></th>\n",
              "      <th>rfid</th>\n",
              "      <th>mid</th>\n",
              "      <th>reference</th>\n",
              "    </tr>\n",
              "  </thead>\n",
              "  <tbody>\n",
              "    <tr>\n",
              "      <th>0</th>\n",
              "      <td>2</td>\n",
              "      <td>79</td>\n",
              "      <td>&gt; From: Le Vine, Debi&gt; Sent: Thursday, August ...</td>\n",
              "    </tr>\n",
              "    <tr>\n",
              "      <th>1</th>\n",
              "      <td>3</td>\n",
              "      <td>99</td>\n",
              "      <td>&gt; From: Golden, Mark&gt; Sent: Thursday, August 2...</td>\n",
              "    </tr>\n",
              "    <tr>\n",
              "      <th>2</th>\n",
              "      <td>8</td>\n",
              "      <td>533</td>\n",
              "      <td>From: Sole, JeanneSent: Friday, August 18, 200...</td>\n",
              "    </tr>\n",
              "    <tr>\n",
              "      <th>3</th>\n",
              "      <td>13</td>\n",
              "      <td>842</td>\n",
              "      <td>From: \\tGrigsby, Mike  Sent:\\tThursday, March ...</td>\n",
              "    </tr>\n",
              "    <tr>\n",
              "      <th>4</th>\n",
              "      <td>14</td>\n",
              "      <td>845</td>\n",
              "      <td>From: Monaco, John [EM] [mailto:john.monaco@ci...</td>\n",
              "    </tr>\n",
              "  </tbody>\n",
              "</table>\n",
              "</div>"
            ],
            "text/plain": [
              "   rfid  mid                                          reference\n",
              "0     2   79  > From: Le Vine, Debi> Sent: Thursday, August ...\n",
              "1     3   99  > From: Golden, Mark> Sent: Thursday, August 2...\n",
              "2     8  533  From: Sole, JeanneSent: Friday, August 18, 200...\n",
              "3    13  842  From: \\tGrigsby, Mike  Sent:\\tThursday, March ...\n",
              "4    14  845  From: Monaco, John [EM] [mailto:john.monaco@ci..."
            ]
          },
          "execution_count": 4,
          "metadata": {},
          "output_type": "execute_result"
        }
      ],
      "source": [
        "referenceinfo = pd.read_sql(\"select * from referenceinfo \",conn)\n",
        "referenceinfo.head()"
      ]
    },
    {
      "cell_type": "markdown",
      "metadata": {
        "id": "169TQ1PuaEbH"
      },
      "source": [
        "## 1 As the rfid grows, will the mid also grow with it?"
      ]
    },
    {
      "cell_type": "code",
      "execution_count": null,
      "metadata": {
        "id": "iuX489sgaEbI",
        "outputId": "1883ac66-365c-42cc-c7fa-909c6b422be1"
      },
      "outputs": [
        {
          "data": {
            "image/png": "[encoded data removed]",
            "text/plain": [
              "<Figure size 432x288 with 1 Axes>"
            ]
          },
          "metadata": {
            "needs_background": "light"
          },
          "output_type": "display_data"
        }
      ],
      "source": [
        "import matplotlib.pyplot as plt\n",
        "\n",
        "plt.plot(referenceinfo.rfid,referenceinfo.mid)\n",
        "plt.show()"
      ]
    },
    {
      "cell_type": "markdown",
      "metadata": {
        "id": "EEL6gOzeaEbI"
      },
      "source": [
        "# Employeelist\n",
        "    eid: employee ID\n",
        "     firstName: first name\n",
        "     · lastName: last name\n",
        "     Email_id: Email address (primary). This one can be found in another table/dataframe, useful for matching.\n",
        "     · Email2: Additional email address replaced by primary email address.\n",
        "     · Email3: See above\n",
        "     · Email4: See above\n",
        "     folder: the user folder in the raw data dump\n",
        "     · status: The last position of the employee. \"None\" is unknown."
      ]
    },
    {
      "cell_type": "code",
      "execution_count": null,
      "metadata": {
        "id": "tXH0uxZ-aEbJ",
        "outputId": "c7eb71c1-17e5-426b-b3c9-4218a3cf2fdb"
      },
      "outputs": [
        {
          "data": {
            "text/html": [
              "<div>\n",
              "<style scoped>\n",
              "    .dataframe tbody tr th:only-of-type {\n",
              "        vertical-align: middle;\n",
              "    }\n",
              "\n",
              "    .dataframe tbody tr th {\n",
              "        vertical-align: top;\n",
              "    }\n",
              "\n",
              "    .dataframe thead th {\n",
              "        text-align: right;\n",
              "    }\n",
              "</style>\n",
              "<table border=\"1\" class=\"dataframe\">\n",
              "  <thead>\n",
              "    <tr style=\"text-align: right;\">\n",
              "      <th></th>\n",
              "      <th>eid</th>\n",
              "      <th>firstName</th>\n",
              "      <th>lastName</th>\n",
              "      <th>Email_id</th>\n",
              "      <th>Email2</th>\n",
              "      <th>Email3</th>\n",
              "      <th>EMail4</th>\n",
              "      <th>folder</th>\n",
              "      <th>status</th>\n",
              "    </tr>\n",
              "  </thead>\n",
              "  <tbody>\n",
              "    <tr>\n",
              "      <th>0</th>\n",
              "      <td>1</td>\n",
              "      <td>Robert</td>\n",
              "      <td>Badeer</td>\n",
              "      <td>robert.badeer@enron.com</td>\n",
              "      <td>rbadeer@enron.com</td>\n",
              "      <td></td>\n",
              "      <td></td>\n",
              "      <td>badeer-r</td>\n",
              "      <td>Director</td>\n",
              "    </tr>\n",
              "    <tr>\n",
              "      <th>1</th>\n",
              "      <td>2</td>\n",
              "      <td>Kevin</td>\n",
              "      <td>Hyatt</td>\n",
              "      <td>kevin.hyatt@enron.com</td>\n",
              "      <td>kevin_hyatt@enron.com</td>\n",
              "      <td>khyatt@enron.com</td>\n",
              "      <td></td>\n",
              "      <td>hyatt-k</td>\n",
              "      <td>Director</td>\n",
              "    </tr>\n",
              "    <tr>\n",
              "      <th>2</th>\n",
              "      <td>3</td>\n",
              "      <td>Tracy</td>\n",
              "      <td>Geaccone</td>\n",
              "      <td>tracy.geaccone@enron.com</td>\n",
              "      <td>tracy_geaconne@enron.com</td>\n",
              "      <td></td>\n",
              "      <td></td>\n",
              "      <td>geaccone-t</td>\n",
              "      <td>Employee</td>\n",
              "    </tr>\n",
              "    <tr>\n",
              "      <th>3</th>\n",
              "      <td>4</td>\n",
              "      <td>Teb</td>\n",
              "      <td>Lokey</td>\n",
              "      <td>teb.lokey@enron.com</td>\n",
              "      <td>teb_lokey@enron.com</td>\n",
              "      <td>tlokey@enron.com</td>\n",
              "      <td></td>\n",
              "      <td>lokey-t</td>\n",
              "      <td>Manager</td>\n",
              "    </tr>\n",
              "    <tr>\n",
              "      <th>4</th>\n",
              "      <td>5</td>\n",
              "      <td>Richard</td>\n",
              "      <td>Ring</td>\n",
              "      <td>richard.ring@enron.com</td>\n",
              "      <td></td>\n",
              "      <td></td>\n",
              "      <td></td>\n",
              "      <td>ring-r</td>\n",
              "      <td>Employee</td>\n",
              "    </tr>\n",
              "  </tbody>\n",
              "</table>\n",
              "</div>"
            ],
            "text/plain": [
              "   eid firstName  lastName                  Email_id  \\\n",
              "0    1    Robert    Badeer   robert.badeer@enron.com   \n",
              "1    2     Kevin     Hyatt     kevin.hyatt@enron.com   \n",
              "2    3     Tracy  Geaccone  tracy.geaccone@enron.com   \n",
              "3    4       Teb     Lokey       teb.lokey@enron.com   \n",
              "4    5   Richard      Ring    richard.ring@enron.com   \n",
              "\n",
              "                     Email2            Email3 EMail4      folder    status  \n",
              "0         rbadeer@enron.com                             badeer-r  Director  \n",
              "1     kevin_hyatt@enron.com  khyatt@enron.com            hyatt-k  Director  \n",
              "2  tracy_geaconne@enron.com                           geaccone-t  Employee  \n",
              "3       teb_lokey@enron.com  tlokey@enron.com            lokey-t   Manager  \n",
              "4                                                         ring-r  Employee  "
            ]
          },
          "execution_count": 6,
          "metadata": {},
          "output_type": "execute_result"
        }
      ],
      "source": [
        "employeelist = pd.read_sql(\"select * from employeelist \",conn)\n",
        "employeelist.head()"
      ]
    },
    {
      "cell_type": "markdown",
      "metadata": {
        "id": "2CBALxXmaEbJ"
      },
      "source": [
        "# Message\n",
        "    Table: Message\n",
        "     mid: message ID. Refers to lines in recipient information and reference information.\n",
        "     sender: email address (updated)\n",
        "     date: the date.\n",
        "     message_id: Internal message ID from the mail server.\n",
        "     subject: email subject\n",
        "     body: The body of the email. Can be truncated in the R version!\n",
        "     folder: The exact folder of emails containing subfolders."
      ]
    },
    {
      "cell_type": "code",
      "execution_count": null,
      "metadata": {
        "id": "dQMyw8UuaEbJ",
        "outputId": "2871c667-158b-434f-a91f-5dafad966baf"
      },
      "outputs": [
        {
          "data": {
            "text/html": [
              "<div>\n",
              "<style scoped>\n",
              "    .dataframe tbody tr th:only-of-type {\n",
              "        vertical-align: middle;\n",
              "    }\n",
              "\n",
              "    .dataframe tbody tr th {\n",
              "        vertical-align: top;\n",
              "    }\n",
              "\n",
              "    .dataframe thead th {\n",
              "        text-align: right;\n",
              "    }\n",
              "</style>\n",
              "<table border=\"1\" class=\"dataframe\">\n",
              "  <thead>\n",
              "    <tr style=\"text-align: right;\">\n",
              "      <th></th>\n",
              "      <th>mid</th>\n",
              "      <th>sender</th>\n",
              "      <th>date</th>\n",
              "      <th>message_id</th>\n",
              "      <th>subject</th>\n",
              "      <th>body</th>\n",
              "      <th>folder</th>\n",
              "    </tr>\n",
              "  </thead>\n",
              "  <tbody>\n",
              "    <tr>\n",
              "      <th>0</th>\n",
              "      <td>52</td>\n",
              "      <td>press.release@enron.com</td>\n",
              "      <td>2000-01-21 04:51:00</td>\n",
              "      <td>&lt;12435833.1075863606729.JavaMail.evans@thyme&gt;</td>\n",
              "      <td>ENRON HOSTS ANNUAL ANALYST CONFERENCE PROVIDES...</td>\n",
              "      <td>HOUSTON - Enron Corp. hosted its annual equity...</td>\n",
              "      <td>Robert_Badeer_Aug2000Notes FoldersPress releases</td>\n",
              "    </tr>\n",
              "    <tr>\n",
              "      <th>1</th>\n",
              "      <td>53</td>\n",
              "      <td>office.chairman@enron.com</td>\n",
              "      <td>2000-01-24 01:37:00</td>\n",
              "      <td>&lt;29664079.1075863606676.JavaMail.evans@thyme&gt;</td>\n",
              "      <td>Over $50 -- You made it happen!</td>\n",
              "      <td>On Wall Street, people are talking about Enron...</td>\n",
              "      <td>Robert_Badeer_Aug2000Notes FoldersPress releases</td>\n",
              "    </tr>\n",
              "    <tr>\n",
              "      <th>2</th>\n",
              "      <td>54</td>\n",
              "      <td>office.chairman@enron.com</td>\n",
              "      <td>2000-01-24 02:06:00</td>\n",
              "      <td>&lt;15300605.1075863606629.JavaMail.evans@thyme&gt;</td>\n",
              "      <td>Over $50 -- You made it happen!</td>\n",
              "      <td>On Wall Street, people are talking about Enron...</td>\n",
              "      <td>Robert_Badeer_Aug2000Notes FoldersPress releases</td>\n",
              "    </tr>\n",
              "    <tr>\n",
              "      <th>3</th>\n",
              "      <td>55</td>\n",
              "      <td>press.release@enron.com</td>\n",
              "      <td>2000-02-02 10:21:00</td>\n",
              "      <td>&lt;10522232.1075863606538.JavaMail.evans@thyme&gt;</td>\n",
              "      <td>ROAD-SHOW.COM Q4i.COM CHOOSE ENRON TO DELIVER ...</td>\n",
              "      <td>HOUSTON =01) Enron Broadband Services (EBS), a...</td>\n",
              "      <td>Robert_Badeer_Aug2000Notes FoldersPress releases</td>\n",
              "    </tr>\n",
              "    <tr>\n",
              "      <th>4</th>\n",
              "      <td>56</td>\n",
              "      <td>office.chairman@enron.com</td>\n",
              "      <td>2000-02-07 22:16:00</td>\n",
              "      <td>&lt;16056123.1075863606515.JavaMail.evans@thyme&gt;</td>\n",
              "      <td>Fortune Most Admired Ranking</td>\n",
              "      <td>Congratulations!  For an unprecedented five ye...</td>\n",
              "      <td>Robert_Badeer_Aug2000Notes FoldersPress releases</td>\n",
              "    </tr>\n",
              "  </tbody>\n",
              "</table>\n",
              "</div>"
            ],
            "text/plain": [
              "   mid                     sender                 date  \\\n",
              "0   52    press.release@enron.com  2000-01-21 04:51:00   \n",
              "1   53  office.chairman@enron.com  2000-01-24 01:37:00   \n",
              "2   54  office.chairman@enron.com  2000-01-24 02:06:00   \n",
              "3   55    press.release@enron.com  2000-02-02 10:21:00   \n",
              "4   56  office.chairman@enron.com  2000-02-07 22:16:00   \n",
              "\n",
              "                                      message_id  \\\n",
              "0  <12435833.1075863606729.JavaMail.evans@thyme>   \n",
              "1  <29664079.1075863606676.JavaMail.evans@thyme>   \n",
              "2  <15300605.1075863606629.JavaMail.evans@thyme>   \n",
              "3  <10522232.1075863606538.JavaMail.evans@thyme>   \n",
              "4  <16056123.1075863606515.JavaMail.evans@thyme>   \n",
              "\n",
              "                                             subject  \\\n",
              "0  ENRON HOSTS ANNUAL ANALYST CONFERENCE PROVIDES...   \n",
              "1                    Over $50 -- You made it happen!   \n",
              "2                    Over $50 -- You made it happen!   \n",
              "3  ROAD-SHOW.COM Q4i.COM CHOOSE ENRON TO DELIVER ...   \n",
              "4                       Fortune Most Admired Ranking   \n",
              "\n",
              "                                                body  \\\n",
              "0  HOUSTON - Enron Corp. hosted its annual equity...   \n",
              "1  On Wall Street, people are talking about Enron...   \n",
              "2  On Wall Street, people are talking about Enron...   \n",
              "3  HOUSTON =01) Enron Broadband Services (EBS), a...   \n",
              "4  Congratulations!  For an unprecedented five ye...   \n",
              "\n",
              "                                             folder  \n",
              "0  Robert_Badeer_Aug2000Notes FoldersPress releases  \n",
              "1  Robert_Badeer_Aug2000Notes FoldersPress releases  \n",
              "2  Robert_Badeer_Aug2000Notes FoldersPress releases  \n",
              "3  Robert_Badeer_Aug2000Notes FoldersPress releases  \n",
              "4  Robert_Badeer_Aug2000Notes FoldersPress releases  "
            ]
          },
          "execution_count": 7,
          "metadata": {},
          "output_type": "execute_result"
        }
      ],
      "source": [
        "message = pd.read_sql(\"select * from message \",conn)\n",
        "message.head()"
      ]
    },
    {
      "cell_type": "markdown",
      "metadata": {
        "id": "HZtQeRMZaEbJ"
      },
      "source": [
        "## Number of messages sent per day"
      ]
    },
    {
      "cell_type": "code",
      "execution_count": null,
      "metadata": {
        "id": "bMSZWzKVaEbJ",
        "outputId": "ff08e25b-e52b-4758-bdff-180394fcfb0f"
      },
      "outputs": [
        {
          "data": {
            "text/plain": [
              "[<matplotlib.lines.Line2D at 0x7f3528f39880>]"
            ]
          },
          "execution_count": 8,
          "metadata": {},
          "output_type": "execute_result"
        },
        {
          "data": {
            "image/png": "[encoded data removed]",
            "text/plain": [
              "<Figure size 1440x576 with 1 Axes>"
            ]
          },
          "metadata": {
            "needs_background": "light"
          },
          "output_type": "display_data"
        }
      ],
      "source": [
        "date = message.groupby([\"date\"]).count() .sort_values('mid', ascending = False ).head(10)\n",
        "plt.figure(figsize=(20,8)) \n",
        "plt.xticks(range(0,len(date.index)),date.index)\n",
        "\n",
        "plt.plot(date.index.to_list(),date.mid.to_list()  )\n"
      ]
    },
    {
      "cell_type": "markdown",
      "metadata": {
        "id": "IXrfA2cQaEbK"
      },
      "source": [
        "## Top 10 of the total number of emails sent\n",
        " "
      ]
    },
    {
      "cell_type": "code",
      "execution_count": null,
      "metadata": {
        "id": "iivjXbxLaEbK",
        "outputId": "d504f79b-2694-4264-9067-019e8ea86799"
      },
      "outputs": [
        {
          "data": {
            "text/plain": [
              "<BarContainer object of 10 artists>"
            ]
          },
          "execution_count": 9,
          "metadata": {},
          "output_type": "execute_result"
        },
        {
          "data": {
            "image/png": "[encoded data removed]",
            "text/plain": [
              "<Figure size 432x288 with 1 Axes>"
            ]
          },
          "metadata": {
            "needs_background": "light"
          },
          "output_type": "display_data"
        }
      ],
      "source": [
        "sender_top10 = message.groupby([\"sender\"]).count() .sort_values('mid', ascending = False ).head(10)\n",
        "\n",
        "plt.barh(sender_top10.index.to_list(),sender_top10.mid.to_list()  )"
      ]
    },
    {
      "cell_type": "markdown",
      "metadata": {
        "id": "HY5K5IZzaEbK"
      },
      "source": [
        "# recipientinfo\n",
        "     Recipient Information Note: If sending an email to multiple recipients, there will be a new line for each recipient!\n",
        "     rid: reference ID\n",
        "     mid: message ID from message table/data frame\n",
        "     rtype: Shows whether the recipient received the email normally (\"to\"), as a carbon copy (\"cc\") or as a blind carbon copy (\"bcc\").\n",
        "     rvalue: the recipient's email address"
      ]
    },
    {
      "cell_type": "code",
      "execution_count": null,
      "metadata": {
        "id": "AdZEwch1aEbK",
        "outputId": "eaa0c93c-8780-43df-d005-f2e40e53948b"
      },
      "outputs": [
        {
          "data": {
            "text/html": [
              "<div>\n",
              "<style scoped>\n",
              "    .dataframe tbody tr th:only-of-type {\n",
              "        vertical-align: middle;\n",
              "    }\n",
              "\n",
              "    .dataframe tbody tr th {\n",
              "        vertical-align: top;\n",
              "    }\n",
              "\n",
              "    .dataframe thead th {\n",
              "        text-align: right;\n",
              "    }\n",
              "</style>\n",
              "<table border=\"1\" class=\"dataframe\">\n",
              "  <thead>\n",
              "    <tr style=\"text-align: right;\">\n",
              "      <th></th>\n",
              "      <th>rid</th>\n",
              "      <th>mid</th>\n",
              "      <th>rtype</th>\n",
              "      <th>rvalue</th>\n",
              "      <th>dater</th>\n",
              "    </tr>\n",
              "  </thead>\n",
              "  <tbody>\n",
              "    <tr>\n",
              "      <th>0</th>\n",
              "      <td>67</td>\n",
              "      <td>52</td>\n",
              "      <td>TO</td>\n",
              "      <td>all.worldwide@enron.com</td>\n",
              "      <td>None</td>\n",
              "    </tr>\n",
              "    <tr>\n",
              "      <th>1</th>\n",
              "      <td>68</td>\n",
              "      <td>53</td>\n",
              "      <td>TO</td>\n",
              "      <td>all.downtown@enron.com</td>\n",
              "      <td>None</td>\n",
              "    </tr>\n",
              "    <tr>\n",
              "      <th>2</th>\n",
              "      <td>69</td>\n",
              "      <td>54</td>\n",
              "      <td>TO</td>\n",
              "      <td>all.enron-worldwide@enron.com</td>\n",
              "      <td>None</td>\n",
              "    </tr>\n",
              "    <tr>\n",
              "      <th>3</th>\n",
              "      <td>70</td>\n",
              "      <td>55</td>\n",
              "      <td>TO</td>\n",
              "      <td>all.worldwide@enron.com</td>\n",
              "      <td>None</td>\n",
              "    </tr>\n",
              "    <tr>\n",
              "      <th>4</th>\n",
              "      <td>71</td>\n",
              "      <td>56</td>\n",
              "      <td>TO</td>\n",
              "      <td>all_enron_north.america@enron.com</td>\n",
              "      <td>None</td>\n",
              "    </tr>\n",
              "  </tbody>\n",
              "</table>\n",
              "</div>"
            ],
            "text/plain": [
              "   rid  mid rtype                             rvalue dater\n",
              "0   67   52    TO            all.worldwide@enron.com  None\n",
              "1   68   53    TO             all.downtown@enron.com  None\n",
              "2   69   54    TO      all.enron-worldwide@enron.com  None\n",
              "3   70   55    TO            all.worldwide@enron.com  None\n",
              "4   71   56    TO  all_enron_north.america@enron.com  None"
            ]
          },
          "execution_count": 10,
          "metadata": {},
          "output_type": "execute_result"
        }
      ],
      "source": [
        "recipientinfo = pd.read_sql(\"select * from recipientinfo \",conn)\n",
        "recipientinfo.head()"
      ]
    },
    {
      "cell_type": "code",
      "execution_count": null,
      "metadata": {
        "id": "I7LLazGXaEbK"
      },
      "outputs": [],
      "source": [
        " "
      ]
    },
    {
      "cell_type": "code",
      "execution_count": null,
      "metadata": {
        "id": "fDAqCmOPaEbK"
      },
      "outputs": [],
      "source": [
        " "
      ]
    },
    {
      "cell_type": "code",
      "execution_count": null,
      "metadata": {
        "id": "Mw35YQnJaEbK"
      },
      "outputs": [],
      "source": [
        " "
      ]
    }
  ],
  "metadata": {
    "interpreter": {
      "hash": "916dbcbb3f70747c44a77c7bcd40155683ae19c65e1c03b4aa3499c5328201f1"
    },
    "kernelspec": {
      "display_name": "Python 3.8.10 64-bit",
      "language": "python",
      "name": "python3"
    },
    "language_info": {
      "codemirror_mode": {
        "name": "ipython",
        "version": 3
      },
      "file_extension": ".py",
      "mimetype": "text/x-python",
      "name": "python",
      "nbconvert_exporter": "python",
      "pygments_lexer": "ipython3",
      "version": "3.8.10"
    },
    "orig_nbformat": 4,
    "colab": {
      "name": "代码 copy.ipynb",
      "provenance": [],
      "include_colab_link": true
    }
  },
  "nbformat": 4,
  "nbformat_minor": 0
}